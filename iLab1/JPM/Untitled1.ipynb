{
 "cells": [
  {
   "cell_type": "code",
   "execution_count": 12,
   "metadata": {
    "collapsed": true
   },
   "outputs": [],
   "source": [
    "import pandas as pd\n",
    "import numpy as np"
   ]
  },
  {
   "cell_type": "code",
   "execution_count": 11,
   "metadata": {},
   "outputs": [],
   "source": [
    "\n",
    "\n",
    "df81 = pd.read_csv(r\"/Users/ujash/Documents/IlabDatasets/Top200Companies/HVN.AX.csv\")\n",
    "df82 = pd.read_csv(r\"/Users/ujash/Documents/IlabDatasets/Top200Companies/IAG.AX.csv\")\n",
    "df83 = pd.read_csv(r\"/Users/ujash/Documents/IlabDatasets/Top200Companies/IEL.AX.csv\")\n",
    "df84 = pd.read_csv(r\"/Users/ujash/Documents/IlabDatasets/Top200Companies/IFL.AX.csv\")\n",
    "df85 = pd.read_csv(r\"/Users/ujash/Documents/IlabDatasets/Top200Companies/IFN.AX.csv\")\n",
    "df86 = pd.read_csv(r\"/Users/ujash/Documents/IlabDatasets/Top200Companies/IGO.AX.csv\")\n",
    "df87 = pd.read_csv(r\"/Users/ujash/Documents/IlabDatasets/Top200Companies/ILU.AX.csv\")\n",
    "df88 = pd.read_csv(r\"/Users/ujash/Documents/IlabDatasets/Top200Companies/ING.AX.csv\")\n",
    "df89 = pd.read_csv(r\"/Users/ujash/Documents/IlabDatasets/Top200Companies/IPH.AX.csv\")\n",
    "df90 = pd.read_csv(r\"/Users/ujash/Documents/IlabDatasets/Top200Companies/IPL.AX.csv\")\n",
    "df91 = pd.read_csv(r\"/Users/ujash/Documents/IlabDatasets/Top200Companies/IRE.AX.csv\")\n",
    "df92 = pd.read_csv(r\"/Users/ujash/Documents/IlabDatasets/Top200Companies/IVC.AX.csv\")\n",
    "df93 = pd.read_csv(r\"/Users/ujash/Documents/IlabDatasets/Top200Companies/JBH.AX.csv\")\n",
    "df94 = pd.read_csv(r\"/Users/ujash/Documents/IlabDatasets/Top200Companies/JHG.AX.csv\")\n",
    "df95 = pd.read_csv(r\"/Users/ujash/Documents/IlabDatasets/Top200Companies/JHX.AX.csv\")\n",
    "df96 = pd.read_csv(r\"/Users/ujash/Documents/IlabDatasets/Top200Companies/LLC.AX.csv\")\n",
    "df97 = pd.read_csv(r\"/Users/ujash/Documents/IlabDatasets/Top200Companies/LNK.AX.csv\")\n",
    "df98 = pd.read_csv(r\"/Users/ujash/Documents/IlabDatasets/Top200Companies/LYC.AX.csv\")\n",
    "df99 = pd.read_csv(r\"/Users/ujash/Documents/IlabDatasets/Top200Companies/MFG.AX.csv\")\n",
    "df100 = pd.read_csv(r\"/Users/ujash/Documents/IlabDatasets/Top200Companies/MGR.AX.csv\")\n",
    "\n",
    "newdf = pd.concat([df81,df82,df83,df84,df85,df86,df87,df88,df89,df90],join='inner')\n",
    "finaldf.to_csv( \"Top100.csv\", index=True )\n",
    "\n"
   ]
  },
  {
   "cell_type": "code",
   "execution_count": 13,
   "metadata": {
    "collapsed": true
   },
   "outputs": [],
   "source": [
    "df81 = pd.read_csv(r\"/Users/ujash/Documents/IlabDatasets/Top200Companies/HVN.AX.csv\")\n",
    "df82 = pd.read_csv(r\"/Users/ujash/Documents/IlabDatasets/Top200Companies/IAG.AX.csv\")\n",
    "df83 = pd.read_csv(r\"/Users/ujash/Documents/IlabDatasets/Top200Companies/IEL.AX.csv\")\n",
    "df84 = pd.read_csv(r\"/Users/ujash/Documents/IlabDatasets/Top200Companies/IFL.AX.csv\")\n",
    "df85 = pd.read_csv(r\"/Users/ujash/Documents/IlabDatasets/Top200Companies/IFN.AX.csv\")\n",
    "df86 = pd.read_csv(r\"/Users/ujash/Documents/IlabDatasets/Top200Companies/IGO.AX.csv\")\n",
    "df87 = pd.read_csv(r\"/Users/ujash/Documents/IlabDatasets/Top200Companies/ILU.AX.csv\")\n",
    "df88 = pd.read_csv(r\"/Users/ujash/Documents/IlabDatasets/Top200Companies/ING.AX.csv\")\n",
    "df89 = pd.read_csv(r\"/Users/ujash/Documents/IlabDatasets/Top200Companies/IPH.AX.csv\")\n",
    "df90 = pd.read_csv(r\"/Users/ujash/Documents/IlabDatasets/Top200Companies/IPL.AX.csv\")\n",
    "df91 = pd.read_csv(r\"/Users/ujash/Documents/IlabDatasets/Top200Companies/IRE.AX.csv\")\n",
    "df92 = pd.read_csv(r\"/Users/ujash/Documents/IlabDatasets/Top200Companies/IVC.AX.csv\")\n",
    "df93 = pd.read_csv(r\"/Users/ujash/Documents/IlabDatasets/Top200Companies/JBH.AX.csv\")\n",
    "df94 = pd.read_csv(r\"/Users/ujash/Documents/IlabDatasets/Top200Companies/JHG.AX.csv\")\n",
    "df95 = pd.read_csv(r\"/Users/ujash/Documents/IlabDatasets/Top200Companies/JHX.AX.csv\")\n",
    "df96 = pd.read_csv(r\"/Users/ujash/Documents/IlabDatasets/Top200Companies/LLC.AX.csv\")\n",
    "df97 = pd.read_csv(r\"/Users/ujash/Documents/IlabDatasets/Top200Companies/LNK.AX.csv\")\n",
    "df98 = pd.read_csv(r\"/Users/ujash/Documents/IlabDatasets/Top200Companies/LYC.AX.csv\")\n",
    "df99 = pd.read_csv(r\"/Users/ujash/Documents/IlabDatasets/Top200Companies/MFG.AX.csv\")\n",
    "df100 = pd.read_csv(r\"/Users/ujash/Documents/IlabDatasets/Top200Companies/MGR.AX.csv\")\n",
    "\n",
    "newdf = pd.concat([df81,df82,df83,df84,df85,df86,df87,df88,df89,df90],join='inner')\n",
    "finaldf.to_csv( \"Top100.csv\", index=True )"
   ]
  },
  {
   "cell_type": "code",
   "execution_count": null,
   "metadata": {
    "collapsed": true
   },
   "outputs": [],
   "source": []
  }
 ],
 "metadata": {
  "kernelspec": {
   "display_name": "Python 3",
   "language": "python",
   "name": "python3"
  },
  "language_info": {
   "codemirror_mode": {
    "name": "ipython",
    "version": 3
   },
   "file_extension": ".py",
   "mimetype": "text/x-python",
   "name": "python",
   "nbconvert_exporter": "python",
   "pygments_lexer": "ipython3",
   "version": "3.6.2"
  }
 },
 "nbformat": 4,
 "nbformat_minor": 2
}
